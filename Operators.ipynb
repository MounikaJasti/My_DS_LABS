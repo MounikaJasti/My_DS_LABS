{
 "cells": [
  {
   "cell_type": "markdown",
   "metadata": {},
   "source": [
    "### There are 8 types of Operators in Python"
   ]
  },
  {
   "cell_type": "code",
   "execution_count": 31,
   "metadata": {},
   "outputs": [],
   "source": [
    "# Arithmetic operators\n",
    "# Function definition\n",
    "\n",
    "def operators(a,b):\n",
    "    print('This is addition:', a+b)\n",
    "    print('This is subtraction:',a-b)\n",
    "    if a<b:\n",
    "        print('This is division:',a/b)    # Returns the actual value\n",
    "        print('This is floor division:',a//b)  #Floor division always returns integers only\n",
    "    else:\n",
    "        print('The Multiplication:', a*b)\n",
    "        print('The Modulus Operation:', a%b)"
   ]
  },
  {
   "cell_type": "markdown",
   "metadata": {},
   "source": [
    "#### Above function just performs the arithmetic operations based on arithmetic operators"
   ]
  },
  {
   "cell_type": "code",
   "execution_count": 13,
   "metadata": {},
   "outputs": [
    {
     "name": "stdout",
     "output_type": "stream",
     "text": [
      "This is addition: 7\n",
      "This is subtraction: -1\n",
      "This is division: 0.75\n",
      "This is floor division: 0\n"
     ]
    }
   ],
   "source": [
    "# Function Call\n",
    "operators(3,4)"
   ]
  },
  {
   "cell_type": "code",
   "execution_count": 14,
   "metadata": {},
   "outputs": [
    {
     "name": "stdout",
     "output_type": "stream",
     "text": [
      "This is addition: 9\n",
      "This is subtraction: 1\n",
      "The Multiplication: 20\n",
      "The Modulus Operation: 1\n"
     ]
    }
   ],
   "source": [
    "operators(5,4)"
   ]
  },
  {
   "cell_type": "markdown",
   "metadata": {},
   "source": [
    "#### In Python Floor division will only return the integer by eliminating the decimal places."
   ]
  },
  {
   "cell_type": "code",
   "execution_count": 27,
   "metadata": {},
   "outputs": [],
   "source": [
    "# Arithmetic operators\n",
    "\n",
    "def operators(x,y):\n",
    "    a=x;\n",
    "    b=y;\n",
    "\n",
    "    def arith(a,b):\n",
    "        print('----Aritmetic Operations-------------------------')\n",
    "        print('This is addition:', a+b)\n",
    "        print('This is subtraction:',a-b)\n",
    "        if a<b:\n",
    "            print('This is division:',a/b)    # Returns the actual value\n",
    "            print('This is floor division:',a//b)  #Floor division always returns integers only\n",
    "        else:\n",
    "            print('The Multiplication:', a*b)\n",
    "            print('The Modulus Operation:', a%b)\n",
    "            \n",
    "    def relate(a,b):\n",
    "        print('----Relational Operations-------------------------')\n",
    "        if a>b:\n",
    "            print('This is greater than operator:', a, 'is greater than', b)\n",
    "        elif a<b:\n",
    "            print('This is less than operator:', a, 'is less than', b)        \n",
    "        elif a>=b:\n",
    "            print('This is greater than or equal:', a, 'is greater than or equals to', b)\n",
    "        elif b>=a:\n",
    "            print('This is greater than or equal:', b, 'is greater than or equals to', a)\n",
    "        elif a<=b:\n",
    "            print('This is less than or equal:', a, 'is greater than or equals to', b)\n",
    "        elif b<=a:\n",
    "            print('This is less than or equal:', b, 'is greater than or equals to', a)\n",
    "        elif b==a:\n",
    "            print('Comparion operator is ==:',b, 'is equal to ', a)\n",
    "        elif b!=a:\n",
    "            print('Not equal to :',a, 'not equals ', b)\n",
    "    arith(a,b)\n",
    "    relate(a,b)\n",
    "            "
   ]
  },
  {
   "cell_type": "code",
   "execution_count": 28,
   "metadata": {},
   "outputs": [
    {
     "name": "stdout",
     "output_type": "stream",
     "text": [
      "----Aritmetic Operations-------------------------\n",
      "This is addition: 7\n",
      "This is subtraction: -1\n",
      "This is division: 0.75\n",
      "This is floor division: 0\n",
      "----Relational Operations-------------------------\n",
      "This is less than operator: 3 is less than 4\n"
     ]
    }
   ],
   "source": [
    "operators(3,4)"
   ]
  },
  {
   "cell_type": "code",
   "execution_count": 32,
   "metadata": {},
   "outputs": [
    {
     "data": {
      "text/plain": [
       "10"
      ]
     },
     "execution_count": 32,
     "metadata": {},
     "output_type": "execute_result"
    }
   ],
   "source": [
    "#Equal to\n",
    "a=10\n",
    "a"
   ]
  },
  {
   "cell_type": "code",
   "execution_count": 33,
   "metadata": {},
   "outputs": [
    {
     "data": {
      "text/plain": [
       "12"
      ]
     },
     "execution_count": 33,
     "metadata": {},
     "output_type": "execute_result"
    }
   ],
   "source": [
    "# add and assign\n",
    "a+=2\n",
    "a"
   ]
  },
  {
   "cell_type": "code",
   "execution_count": 35,
   "metadata": {},
   "outputs": [
    {
     "data": {
      "text/plain": [
       "4"
      ]
     },
     "execution_count": 35,
     "metadata": {},
     "output_type": "execute_result"
    }
   ],
   "source": [
    "# Subtract and assign\n",
    "a-=4\n",
    "a"
   ]
  },
  {
   "cell_type": "code",
   "execution_count": 36,
   "metadata": {},
   "outputs": [
    {
     "data": {
      "text/plain": [
       "16"
      ]
     },
     "execution_count": 36,
     "metadata": {},
     "output_type": "execute_result"
    }
   ],
   "source": [
    "# multiply and assign\n",
    "a*=4\n",
    "a"
   ]
  },
  {
   "cell_type": "code",
   "execution_count": 37,
   "metadata": {},
   "outputs": [
    {
     "data": {
      "text/plain": [
       "1"
      ]
     },
     "execution_count": 37,
     "metadata": {},
     "output_type": "execute_result"
    }
   ],
   "source": [
    "# multiply and assign\n",
    "a%=3\n",
    "a"
   ]
  },
  {
   "cell_type": "code",
   "execution_count": 39,
   "metadata": {},
   "outputs": [],
   "source": [
    "# Exponent and assign\n",
    "a**9999\n",
    "a\n",
    "a+=23"
   ]
  },
  {
   "cell_type": "code",
   "execution_count": 40,
   "metadata": {},
   "outputs": [
    {
     "data": {
      "text/plain": [
       "4"
      ]
     },
     "execution_count": 40,
     "metadata": {},
     "output_type": "execute_result"
    }
   ],
   "source": [
    "# Floor division and assign\n",
    "a//=5\n",
    "a"
   ]
  },
  {
   "cell_type": "code",
   "execution_count": 42,
   "metadata": {},
   "outputs": [
    {
     "data": {
      "text/plain": [
       "4.8"
      ]
     },
     "execution_count": 42,
     "metadata": {},
     "output_type": "execute_result"
    }
   ],
   "source": [
    "24/5"
   ]
  },
  {
   "cell_type": "code",
   "execution_count": 45,
   "metadata": {},
   "outputs": [
    {
     "name": "stdout",
     "output_type": "stream",
     "text": [
      "False\n"
     ]
    }
   ],
   "source": [
    "a = 8>7 and 6>7\n",
    "print(a)"
   ]
  },
  {
   "cell_type": "code",
   "execution_count": 55,
   "metadata": {},
   "outputs": [
    {
     "name": "stdout",
     "output_type": "stream",
     "text": [
      "1 1 False\n"
     ]
    }
   ],
   "source": [
    "a = 1 and 1; b= 1 or 1; c=not(a)\n",
    "print(a, b, c)"
   ]
  },
  {
   "cell_type": "code",
   "execution_count": 56,
   "metadata": {},
   "outputs": [
    {
     "name": "stdout",
     "output_type": "stream",
     "text": [
      "0 1 True\n"
     ]
    }
   ],
   "source": [
    "a = 1 and 0; b = 1 or 0; c=not(a)\n",
    "print(a,b,c)"
   ]
  },
  {
   "cell_type": "code",
   "execution_count": 59,
   "metadata": {},
   "outputs": [
    {
     "name": "stdout",
     "output_type": "stream",
     "text": [
      "0 1 True\n"
     ]
    }
   ],
   "source": [
    "a = 0 and 1; b = 0 or 1; c=not(a)\n",
    "print(a,b,c)"
   ]
  },
  {
   "cell_type": "code",
   "execution_count": 61,
   "metadata": {},
   "outputs": [
    {
     "name": "stdout",
     "output_type": "stream",
     "text": [
      "0 0 True\n"
     ]
    }
   ],
   "source": [
    "a = 0 and 0; b = 0 or 0; c=not(a)\n",
    "print(a,b,c)"
   ]
  },
  {
   "cell_type": "code",
   "execution_count": 62,
   "metadata": {},
   "outputs": [
    {
     "name": "stdout",
     "output_type": "stream",
     "text": [
      "b\n"
     ]
    }
   ],
   "source": [
    "#Ternary Operator\n",
    "a=3;b=6\n",
    "print(\"a\" if a>b else \"b\")"
   ]
  },
  {
   "cell_type": "code",
   "execution_count": 63,
   "metadata": {},
   "outputs": [
    {
     "name": "stdout",
     "output_type": "stream",
     "text": [
      "a\n"
     ]
    }
   ],
   "source": [
    "b,a=15,76\n",
    "print(\"a\" if a>b else \"b\")"
   ]
  },
  {
   "cell_type": "code",
   "execution_count": null,
   "metadata": {},
   "outputs": [],
   "source": []
  }
 ],
 "metadata": {
  "kernelspec": {
   "display_name": "Python 3",
   "language": "python",
   "name": "python3"
  },
  "language_info": {
   "codemirror_mode": {
    "name": "ipython",
    "version": 3
   },
   "file_extension": ".py",
   "mimetype": "text/x-python",
   "name": "python",
   "nbconvert_exporter": "python",
   "pygments_lexer": "ipython3",
   "version": "3.7.4"
  }
 },
 "nbformat": 4,
 "nbformat_minor": 2
}
